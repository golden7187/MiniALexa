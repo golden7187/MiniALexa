{
  "nbformat": 4,
  "nbformat_minor": 0,
  "metadata": {
    "colab": {
      "provenance": [],
      "authorship_tag": "ABX9TyMK7ZVY1u0U7s203L+CTaFL",
      "include_colab_link": true
    },
    "kernelspec": {
      "name": "python3",
      "display_name": "Python 3"
    },
    "language_info": {
      "name": "python"
    }
  },
  "cells": [
    {
      "cell_type": "markdown",
      "metadata": {
        "id": "view-in-github",
        "colab_type": "text"
      },
      "source": [
        "<a href=\"https://colab.research.google.com/github/golden7187/MiniALexa/blob/main/Untitled24.ipynb\" target=\"_parent\"><img src=\"https://colab.research.google.com/assets/colab-badge.svg\" alt=\"Open In Colab\"/></a>"
      ]
    },
    {
      "cell_type": "code",
      "execution_count": null,
      "metadata": {
        "id": "FFXMa_PnY92E"
      },
      "outputs": [],
      "source": [
        "import matplotlib.pyplot as plt\n",
        "\n",
        "# Count the occurrences of each unique value in the 'conversion' column\n",
        "conversion_counts = df_Criteo_Attribution['conversion'].value_counts()\n",
        "\n",
        "# Plotting the counts\n",
        "plt.figure(figsize=(8, 6))\n",
        "conversion_counts.plot(kind='bar', color='skyblue', edgecolor='black')\n",
        "plt.title('Count of Conversions (0 and 1)')\n",
        "plt.xlabel('Conversion')\n",
        "plt.ylabel('Count')\n",
        "plt.xticks(rotation=0)  # Rotate x-axis labels if needed\n",
        "plt.show()\n"
      ]
    },
    {
      "cell_type": "code",
      "source": [
        "import dask.dataframe as dd\n",
        "import matplotlib.pyplot as plt\n",
        "\n",
        "# Convert pandas DataFrame to Dask DataFrame\n",
        "ddf = dd.from_pandas(df_Criteo_Attribution, npartitions=100)  # Adjust npartitions as needed\n",
        "\n",
        "# Count occurrences of each unique value in the 'conversion' column\n",
        "conversion_counts = ddf['conversion'].value_counts().compute()\n",
        "\n",
        "# Plotting the counts\n",
        "plt.figure(figsize=(8, 6))\n",
        "conversion_counts.plot(kind='bar', color='skyblue', edgecolor='black')\n",
        "plt.title('Count of Conversions (0 and 1)')\n",
        "plt.xlabel('Conversion')\n",
        "plt.ylabel('Count')\n",
        "plt.xticks(rotation=0)  # Rotate x-axis labels if needed\n",
        "plt.show()\n"
      ],
      "metadata": {
        "id": "xOMRmlI9agiH"
      },
      "execution_count": null,
      "outputs": []
    }
  ]
}