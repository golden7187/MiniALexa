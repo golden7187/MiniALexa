{
  "nbformat": 4,
  "nbformat_minor": 0,
  "metadata": {
    "colab": {
      "provenance": [],
      "authorship_tag": "ABX9TyNYCex5xyFwy2LzVxssIedr",
      "include_colab_link": true
    },
    "kernelspec": {
      "name": "python3",
      "display_name": "Python 3"
    },
    "language_info": {
      "name": "python"
    }
  },
  "cells": [
    {
      "cell_type": "markdown",
      "metadata": {
        "id": "view-in-github",
        "colab_type": "text"
      },
      "source": [
        "<a href=\"https://colab.research.google.com/github/golden7187/MiniALexa/blob/main/Untitled26.ipynb\" target=\"_parent\"><img src=\"https://colab.research.google.com/assets/colab-badge.svg\" alt=\"Open In Colab\"/></a>"
      ]
    },
    {
      "cell_type": "code",
      "execution_count": null,
      "metadata": {
        "id": "JUQDhxUOkgAg"
      },
      "outputs": [],
      "source": [
        "import matplotlib.pyplot as plt\n",
        "\n",
        "# Assuming `conversion_per_campaign` DataFrame is already defined\n",
        "campaign_ids = conversion_per_campaign['campaign']\n",
        "min_campaign_id = min(campaign_ids)\n",
        "max_campaign_id = max(campaign_ids)\n",
        "normalized_campaign_ids = (campaign_ids - min_campaign_id) / (max_campaign_id - min_campaign_id)\n",
        "\n",
        "total_conversions = conversion_per_campaign['count'].sum()\n",
        "conversion_per_campaign['normalized_count'] = conversion_per_campaign['count'] / total_conversions\n",
        "\n",
        "plt.figure(figsize=(10, 6))\n",
        "plt.plot(normalized_campaign_ids, conversion_per_campaign['normalized_count'], marker='o', color='skyblue', linestyle='-')\n",
        "plt.xlabel('Normalized Campaign ID')\n",
        "plt.ylabel('Normalized Number of Conversions')\n",
        "plt.title('Normalized Number of Conversions per Campaign')\n",
        "plt.tight_layout()\n",
        "plt.show()\n"
      ]
    }
  ]
}