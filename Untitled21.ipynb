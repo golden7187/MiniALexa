{
  "nbformat": 4,
  "nbformat_minor": 0,
  "metadata": {
    "colab": {
      "provenance": [],
      "authorship_tag": "ABX9TyNQMsx75qU9pjTI7cUeDmv0",
      "include_colab_link": true
    },
    "kernelspec": {
      "name": "python3",
      "display_name": "Python 3"
    },
    "language_info": {
      "name": "python"
    }
  },
  "cells": [
    {
      "cell_type": "markdown",
      "metadata": {
        "id": "view-in-github",
        "colab_type": "text"
      },
      "source": [
        "<a href=\"https://colab.research.google.com/github/golden7187/MiniALexa/blob/main/Untitled21.ipynb\" target=\"_parent\"><img src=\"https://colab.research.google.com/assets/colab-badge.svg\" alt=\"Open In Colab\"/></a>"
      ]
    },
    {
      "cell_type": "code",
      "execution_count": null,
      "metadata": {
        "id": "mbOzygG4DJfl"
      },
      "outputs": [],
      "source": [
        "import pandas as pd\n",
        "\n",
        "# Read the excel file into a DataFrame\n",
        "df1 = pd.read_excel('automation_task.xlsx')\n",
        "\n",
        "# Define parameters\n",
        "lower_lim = 10\n",
        "upper_lim = 60\n",
        "baseline_ratio = 20\n",
        "\n",
        "# Calculate individual shares\n",
        "df1['individual shares organic others'] = 0\n",
        "df1['individual shares paid owned'] = 0\n",
        "\n",
        "organic_mask = (df1['Type'] == 'Organic') | (df1['Type'] == 'Other')\n",
        "df1.loc[organic_mask, 'individual shares organic others'] = df1.loc[organic_mask, 'Impression'] / df1.loc[organic_mask, 'Impression'].sum()\n",
        "\n",
        "paid_owned_mask = (df1['Type'] == 'Paid') | (df1['Type'] == 'Owned')\n",
        "total_spending = df1.loc[paid_owned_mask, 'Spending'].sum()\n",
        "df1.loc[paid_owned_mask, 'individual shares paid owned'] = df1.loc[paid_owned_mask, 'Spending'] / total_spending\n",
        "\n",
        "# Redistribute shares\n",
        "df1['individual shares redistributed'] = df1['individual shares organic others']\n",
        "df1.loc[paid_owned_mask, 'individual shares redistributed'] = df1.loc[paid_owned_mask, 'individual shares paid owned']\n",
        "\n",
        "# Create DataFrame for targets\n",
        "df2 = pd.DataFrame()\n",
        "df2['Channel'] = df1['Channel']\n",
        "\n",
        "# Calculate targets\n",
        "for i in range(lower_lim, upper_lim + 1):\n",
        "    df2[f'target_{i}'] = 0\n",
        "    organic_contribution = df1['individual shares redistributed'] * i * baseline_ratio / 10000\n",
        "    paid_owned_contribution = df1['individual shares redistributed'] * i * (100 - baseline_ratio) / 10000\n",
        "    df2[f'target_{i}'] = organic_contribution.where(organic_mask, paid_owned_contribution)\n",
        "\n",
        "# Print or use df2 as needed\n",
        "print(df2)\n"
      ]
    },
    {
      "cell_type": "code",
      "source": [
        "import pandas as pd\n",
        "\n",
        "# Read the excel file into a DataFrame\n",
        "df1 = pd.read_excel('automation_task.xlsx')\n",
        "\n",
        "# Define parameters\n",
        "lower_lim = 10\n",
        "upper_lim = 60\n",
        "baseline_ratio = 20\n",
        "\n",
        "# Calculate total impressions and spending\n",
        "total_impressions = df1['Impression'].sum()\n",
        "total_spending = df1['Spending'].sum()\n",
        "\n",
        "# Calculate individual shares\n",
        "df1['individual shares organic others'] = 0\n",
        "organic_mask = df1['Type'].isin(['Organic', 'Other'])\n",
        "df1.loc[organic_mask, 'individual shares organic others'] = df1.loc[organic_mask, 'Impression'] / total_impressions\n",
        "\n",
        "df1['individual shares paid owned'] = 0\n",
        "paid_owned_mask = df1['Type'].isin(['Paid', 'Owned'])\n",
        "df1.loc[paid_owned_mask, 'individual shares paid owned'] = df1.loc[paid_owned_mask, 'Spending'] / total_spending\n",
        "\n",
        "# Redistribute shares\n",
        "df1['individual shares redistributed'] = df1['individual shares organic others']\n",
        "df1.loc[paid_owned_mask, 'individual shares redistributed'] = df1.loc[paid_owned_mask, 'individual shares paid owned']\n",
        "\n",
        "# Create DataFrame for targets\n",
        "df2 = pd.DataFrame()\n",
        "df2['Channel'] = df1['Channel']\n",
        "\n",
        "# Calculate targets\n",
        "for i in range(lower_lim, upper_lim + 1):\n",
        "    df2[f'target_{i}'] = 0\n",
        "    df2[f'target_{i}'] = df1['individual shares redistributed'] * i * baseline_ratio / 10000\n",
        "    df2.loc[paid_owned_mask, f'target_{i}'] *= (100 - baseline_ratio) / baseline_ratio\n",
        "\n",
        "# Print or use df2 as needed\n",
        "print(df2)\n"
      ],
      "metadata": {
        "id": "z2Y3znUWDL1W"
      },
      "execution_count": null,
      "outputs": []
    },
    {
      "cell_type": "code",
      "source": [
        "import pandas as pd\n",
        "\n",
        "# Read the excel file into a DataFrame\n",
        "df1 = pd.read_excel('automation_task.xlsx')\n",
        "\n",
        "# Define parameters\n",
        "lower_lim = 10\n",
        "upper_lim = 60\n",
        "baseline_ratio = 20\n",
        "\n",
        "# Calculate total impressions and spending\n",
        "total_impressions = df1.loc[df1['Type'].isin(['Organic', 'Other']), 'Impression'].sum()\n",
        "total_spending = df1.loc[df1['Type'].isin(['Paid', 'Owned']), 'Spending'].sum()\n",
        "\n",
        "# Calculate individual shares\n",
        "df1['individual shares organic others'] = df1['Impression'] / total_impressions\n",
        "df1['individual shares paid owned'] = df1['Spending'] / total_spending\n",
        "\n",
        "# Redistribute shares\n",
        "df1['individual shares redistributed'] = df1['individual shares organic others']\n",
        "df1.loc[df1['Type'].isin(['Paid', 'Owned']), 'individual shares redistributed'] = df1['individual shares paid owned']\n",
        "\n",
        "# Create DataFrame for targets\n",
        "df2 = pd.DataFrame({'Channel': df1['Channel']})\n",
        "\n",
        "# Calculate targets\n",
        "for i in range(lower_lim, upper_lim + 1):\n",
        "    target_col = f'target_{i}'\n",
        "    df2[target_col] = df1['individual shares redistributed'] * i * baseline_ratio / 10000\n",
        "    df2.loc[df1['Type'].isin(['Paid', 'Owned']), target_col] *= (100 - baseline_ratio) / baseline_ratio\n",
        "\n",
        "# Print or use df2 as needed\n",
        "print(df2)\n"
      ],
      "metadata": {
        "id": "LUSUzzEJDSMZ"
      },
      "execution_count": null,
      "outputs": []
    },
    {
      "cell_type": "code",
      "source": [
        "import pandas as pd\n",
        "\n",
        "# Read the excel file into a DataFrame\n",
        "df = pd.read_excel('automation_task.xlsx')\n",
        "\n",
        "# Define parameters\n",
        "lower_lim = 10\n",
        "upper_lim = 60\n",
        "increment = 1\n",
        "baseline_ratio = 20\n",
        "\n",
        "# Create DataFrame for targets\n",
        "df2 = pd.DataFrame({\"Channel\": df[\"Channel\"]})\n",
        "\n",
        "# Iterate over each row and calculate targets\n",
        "for index, row in df.iterrows():\n",
        "    individual_shares = row[\"individual shares redistributed\"]\n",
        "    for i in range(lower_lim, upper_lim + increment, increment):\n",
        "        if row[\"Type\"] in [\"Organic\", \"Other\"]:\n",
        "            df2.loc[index, f\"target_{i}\"] = individual_shares * i * baseline_ratio / 10000\n",
        "        elif row[\"Type\"] in [\"Paid\", \"Owned\"]:\n",
        "            df2.loc[index, f\"target_{i}\"] = individual_shares * i * (100 - baseline_ratio) / 10000\n",
        "\n",
        "# Print or use df2 as needed\n",
        "print(df2)\n"
      ],
      "metadata": {
        "id": "BFPhoS0qWnub"
      },
      "execution_count": null,
      "outputs": []
    }
  ]
}