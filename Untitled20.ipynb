{
  "nbformat": 4,
  "nbformat_minor": 0,
  "metadata": {
    "colab": {
      "provenance": [],
      "authorship_tag": "ABX9TyMLonGlgYsaTBz86GbE8VmU",
      "include_colab_link": true
    },
    "kernelspec": {
      "name": "python3",
      "display_name": "Python 3"
    },
    "language_info": {
      "name": "python"
    }
  },
  "cells": [
    {
      "cell_type": "markdown",
      "metadata": {
        "id": "view-in-github",
        "colab_type": "text"
      },
      "source": [
        "<a href=\"https://colab.research.google.com/github/golden7187/MiniALexa/blob/main/Untitled20.ipynb\" target=\"_parent\"><img src=\"https://colab.research.google.com/assets/colab-badge.svg\" alt=\"Open In Colab\"/></a>"
      ]
    },
    {
      "cell_type": "code",
      "execution_count": null,
      "metadata": {
        "id": "Gb7UMF0jFxKo"
      },
      "outputs": [],
      "source": [
        "import pandas as pd\n",
        "\n",
        "# Read the Excel file\n",
        "file_path = 'channels_info.xlsx'  # Update with your file path\n",
        "df = pd.read_excel(file_path, sheet_name='channels')\n",
        "\n",
        "# Calculate spending percentage for each channel using the provided formula\n",
        "total_spending = df['spending'].sum()\n",
        "df['spend_percentage'] = df['spending'] / total_spending\n",
        "\n",
        "# Create a new DataFrame with only 'spend_percentage' column\n",
        "output_df = df[['spend_percentage']]\n",
        "\n",
        "# Write the new DataFrame to a new Excel sheet\n",
        "output_file_path = 'output.xlsx'  # Update with your desired output file path\n",
        "with pd.ExcelWriter(output_file_path) as writer:\n",
        "    output_df.to_excel(writer, sheet_name='output_sheet', index=False)\n"
      ]
    }
  ]
}