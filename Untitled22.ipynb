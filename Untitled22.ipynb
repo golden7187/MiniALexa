{
  "nbformat": 4,
  "nbformat_minor": 0,
  "metadata": {
    "colab": {
      "provenance": [],
      "authorship_tag": "ABX9TyPsqAALnjSiHYGZG61YQKnr",
      "include_colab_link": true
    },
    "kernelspec": {
      "name": "python3",
      "display_name": "Python 3"
    },
    "language_info": {
      "name": "python"
    }
  },
  "cells": [
    {
      "cell_type": "markdown",
      "metadata": {
        "id": "view-in-github",
        "colab_type": "text"
      },
      "source": [
        "<a href=\"https://colab.research.google.com/github/golden7187/MiniALexa/blob/main/Untitled22.ipynb\" target=\"_parent\"><img src=\"https://colab.research.google.com/assets/colab-badge.svg\" alt=\"Open In Colab\"/></a>"
      ]
    },
    {
      "cell_type": "code",
      "execution_count": null,
      "metadata": {
        "id": "T2QzbBtUNUe1"
      },
      "outputs": [],
      "source": [
        "for i in list2:\n",
        "    if i == 'SUM':\n",
        "        SEM_Adjustments[i] = percentage_contributions.sum(axis=1)\n",
        "    elif i == 'SEM':\n",
        "        SEM_Adjustments[i] = 1 - percentage_contributions.sum(axis=1)\n",
        "        SEM_Adjustments[i] = SEM_Adjustments[i].where(SEM_Adjustments[i] < 1, 0)  # Set values greater than 1 to 0\n",
        "    elif i == 'SUM_2':\n",
        "        SEM_Adjustments[i] = SEM_Adjustments['SUM'] + SEM_Adjustments['SEM']\n",
        "    else:\n",
        "        SEM_Adjustments[i] = df1['F_FQ'] / df1['P_SEM_600_Clicks']\n"
      ]
    },
    {
      "cell_type": "code",
      "source": [
        "for i in list3:\n",
        "    if i == 'YSEM1':\n",
        "        Re_adjusted_percentages[i] = SEM_Adjustments['SEM'] / SEM_Adjustments['SUM_2']\n",
        "    else:\n",
        "        Re_adjusted_percentages[i] = percentage_contributions[i] / SEM_Adjustments['SUM_2']\n"
      ],
      "metadata": {
        "id": "Vj1ypR5rO0JL"
      },
      "execution_count": null,
      "outputs": []
    },
    {
      "cell_type": "code",
      "source": [
        "import numpy as np\n",
        "\n",
        "for i in list3:\n",
        "    if i == 'YSEM1':\n",
        "        Re_adjusted_percentages[i] = np.where(SEM_Adjustments['SUM_2'] != 0, SEM_Adjustments['SEM'] / SEM_Adjustments['SUM_2'], 0)\n",
        "    else:\n",
        "        Re_adjusted_percentages[i] = np.where(SEM_Adjustments['SUM_2'] != 0, percentage_contributions[i] / SEM_Adjustments['SUM_2'], 0)\n"
      ],
      "metadata": {
        "id": "egggwjYmPaeM"
      },
      "execution_count": null,
      "outputs": []
    }
  ]
}