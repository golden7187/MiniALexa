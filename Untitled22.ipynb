{
  "nbformat": 4,
  "nbformat_minor": 0,
  "metadata": {
    "colab": {
      "provenance": [],
      "authorship_tag": "ABX9TyOy2P+oqXyd3tsMnt/j0zhG",
      "include_colab_link": true
    },
    "kernelspec": {
      "name": "python3",
      "display_name": "Python 3"
    },
    "language_info": {
      "name": "python"
    }
  },
  "cells": [
    {
      "cell_type": "markdown",
      "metadata": {
        "id": "view-in-github",
        "colab_type": "text"
      },
      "source": [
        "<a href=\"https://colab.research.google.com/github/golden7187/MiniALexa/blob/main/Untitled22.ipynb\" target=\"_parent\"><img src=\"https://colab.research.google.com/assets/colab-badge.svg\" alt=\"Open In Colab\"/></a>"
      ]
    },
    {
      "cell_type": "code",
      "execution_count": null,
      "metadata": {
        "id": "T2QzbBtUNUe1"
      },
      "outputs": [],
      "source": [
        "for i in list2:\n",
        "    if i == 'SUM':\n",
        "        SEM_Adjustments[i] = percentage_contributions.sum(axis=1)\n",
        "    elif i == 'SEM':\n",
        "        SEM_Adjustments[i] = 1 - percentage_contributions.sum(axis=1)\n",
        "        SEM_Adjustments[i] = SEM_Adjustments[i].where(SEM_Adjustments[i] < 1, 0)  # Set values greater than 1 to 0\n",
        "    elif i == 'SUM_2':\n",
        "        SEM_Adjustments[i] = SEM_Adjustments['SUM'] + SEM_Adjustments['SEM']\n",
        "    else:\n",
        "        SEM_Adjustments[i] = df1['F_FQ'] / df1['P_SEM_600_Clicks']\n"
      ]
    },
    {
      "cell_type": "code",
      "source": [
        "for i in list3:\n",
        "    if i == 'YSEM1':\n",
        "        Re_adjusted_percentages[i] = SEM_Adjustments['SEM'] / SEM_Adjustments['SUM_2']\n",
        "    else:\n",
        "        Re_adjusted_percentages[i] = percentage_contributions[i] / SEM_Adjustments['SUM_2']\n"
      ],
      "metadata": {
        "id": "Vj1ypR5rO0JL"
      },
      "execution_count": null,
      "outputs": []
    },
    {
      "cell_type": "code",
      "source": [
        "import numpy as np\n",
        "\n",
        "for i in list3:\n",
        "    if i == 'YSEM1':\n",
        "        Re_adjusted_percentages[i] = np.where(SEM_Adjustments['SUM_2'] != 0, SEM_Adjustments['SEM'] / SEM_Adjustments['SUM_2'], 0)\n",
        "    else:\n",
        "        Re_adjusted_percentages[i] = np.where(SEM_Adjustments['SUM_2'] != 0, percentage_contributions[i] / SEM_Adjustments['SUM_2'], 0)\n"
      ],
      "metadata": {
        "id": "egggwjYmPaeM"
      },
      "execution_count": null,
      "outputs": []
    },
    {
      "cell_type": "code",
      "source": [
        "for i in list2:\n",
        "    if i == 'SUM':\n",
        "        SEM_Adjustments[i] = percentage_contributions.sum(axis=1)\n",
        "    elif i == 'SEM':\n",
        "        SEM_Adjustments['SEM_temp'] = 1 - SEM_Adjustments['SUM']  # Calculate temporary SEM value\n",
        "        SEM_Adjustments[i] = SEM_Adjustments['SEM_temp'].clip(lower=0, upper=1)  # Clip SEM values between 0 and 1\n",
        "        SEM_Adjustments.drop(columns=['SEM_temp'], inplace=True)  # Drop temporary column\n",
        "    elif i == 'SUM_2':\n",
        "        SEM_Adjustments[i] = SEM_Adjustments['SUM'] + SEM_Adjustments['SEM']\n",
        "    else:\n",
        "        SEM_Adjustments[i] = df1['F_FQ'] / df1['P_SEM_600_Clicks']\n"
      ],
      "metadata": {
        "id": "LRKpYdJXRpO3"
      },
      "execution_count": null,
      "outputs": []
    },
    {
      "cell_type": "code",
      "source": [
        "for i in list2:\n",
        "    if i == 'SUM':\n",
        "        SEM_Adjustments['SUM'] = percentage_contributions.sum(axis=1)\n",
        "    elif i == 'SEM':\n",
        "        SEM_Adjustments['SEM'] = 1 - SEM_Adjustments['SUM'].where(SEM_Adjustments['SUM'] < 1, 0)\n",
        "    elif i == 'SUM_2':\n",
        "        SEM_Adjustments['SUM_2'] = SEM_Adjustments['SUM'] + SEM_Adjustments['SEM']\n",
        "    else:\n",
        "        SEM_Adjustments[i] = df1['F_FQ'] / df1['P_SEM_600_Clicks']\n"
      ],
      "metadata": {
        "id": "AWxaIFpCTthA"
      },
      "execution_count": null,
      "outputs": []
    },
    {
      "cell_type": "code",
      "source": [
        "for i in list2:\n",
        "    for index, row in percentage_contributions.iterrows():\n",
        "        if i == 'SUM':\n",
        "            SEM_Adjustments.at[index, i] = row.sum()\n",
        "        elif i == 'SEM':\n",
        "            if row.sum() < 1:\n",
        "                SEM_Adjustments.at[index, i] = 1 - row.sum()\n",
        "            else:\n",
        "                SEM_Adjustments.at[index, i] = df1.at[index, 'F_FQ'] / df1.at[index, 'P_SEM_600_Clicks']\n",
        "        elif i == 'SUM_2':\n",
        "            SEM_Adjustments.at[index, i] = SEM_Adjustments.at[index, 'SUM'] + SEM_Adjustments.at[index, 'SEM']\n",
        "        else:\n",
        "            SEM_Adjustments.at[index, i] = df1.at[index, 'F_FQ'] / df1.at[index, 'P_SEM_600_Clicks']\n"
      ],
      "metadata": {
        "id": "TjN4bJiUUdcV"
      },
      "execution_count": null,
      "outputs": []
    },
    {
      "cell_type": "code",
      "source": [
        "for index, row in percentage_contributions.iterrows():\n",
        "    for i in list2:\n",
        "        if i == 'SUM':\n",
        "            SEM_Adjustments.at[index, i] = row.sum()\n",
        "        elif i == 'SEM':\n",
        "            sum_value = row.sum()\n",
        "            SEM_Adjustments.at[index, i] = 1 - sum_value if sum_value < 1 else df1.at[index, 'F_FQ'] / df1.at[index, 'P_SEM_600_Clicks']\n",
        "        elif i == 'SUM_2':\n",
        "            SEM_Adjustments.at[index, i] = SEM_Adjustments.at[index, 'SUM'] + SEM_Adjustments.at[index, 'SEM']\n",
        "        else:\n",
        "            SEM_Adjustments.at[index, i] = df1.at[index, 'F_FQ'] / df1.at[index, 'P_SEM_600_Clicks']\n"
      ],
      "metadata": {
        "id": "90JUw7amU2XP"
      },
      "execution_count": null,
      "outputs": []
    },
    {
      "cell_type": "code",
      "source": [
        "for i in list3:\n",
        "    for index, row in percentage_contributions.iterrows():\n",
        "        if i == 'YSEM1':\n",
        "            Re_adjusted_percentages.at[index, i] = SEM_Adjustments.at[index, 'SEM'] / SEM_Adjustments.at[index, 'SUM_2']\n",
        "        else:\n",
        "            Re_adjusted_percentages.at[index, i] = percentage_contributions.at[index, i] / SEM_Adjustments.at[index, 'SUM_2']\n"
      ],
      "metadata": {
        "id": "UT4_CZhfV0v-"
      },
      "execution_count": null,
      "outputs": []
    },
    {
      "cell_type": "code",
      "source": [
        "for index, row in percentage_contributions.iterrows():\n",
        "    for i in list3:\n",
        "        if i == 'YSEM1':\n",
        "            Re_adjusted_percentages.at[index, i] = row['SEM'] / row['SUM_2']\n",
        "        else:\n",
        "            Re_adjusted_percentages.at[index, i] = row[i] / row['SUM_2']\n"
      ],
      "metadata": {
        "id": "DW-OGdL7W9Nj"
      },
      "execution_count": null,
      "outputs": []
    }
  ]
}