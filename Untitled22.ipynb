{
  "nbformat": 4,
  "nbformat_minor": 0,
  "metadata": {
    "colab": {
      "provenance": [],
      "authorship_tag": "ABX9TyOhmxa9MF2goRXqMOfLpZO5",
      "include_colab_link": true
    },
    "kernelspec": {
      "name": "python3",
      "display_name": "Python 3"
    },
    "language_info": {
      "name": "python"
    }
  },
  "cells": [
    {
      "cell_type": "markdown",
      "metadata": {
        "id": "view-in-github",
        "colab_type": "text"
      },
      "source": [
        "<a href=\"https://colab.research.google.com/github/golden7187/MiniALexa/blob/main/Untitled22.ipynb\" target=\"_parent\"><img src=\"https://colab.research.google.com/assets/colab-badge.svg\" alt=\"Open In Colab\"/></a>"
      ]
    },
    {
      "cell_type": "code",
      "execution_count": null,
      "metadata": {
        "id": "T2QzbBtUNUe1"
      },
      "outputs": [],
      "source": [
        "for i in list2:\n",
        "    if i == 'SUM':\n",
        "        SEM_Adjustments[i] = percentage_contributions.sum(axis=1)\n",
        "    elif i == 'SEM':\n",
        "        SEM_Adjustments[i] = 1 - percentage_contributions.sum(axis=1)\n",
        "        SEM_Adjustments[i] = SEM_Adjustments[i].where(SEM_Adjustments[i] < 1, 0)  # Set values greater than 1 to 0\n",
        "    elif i == 'SUM_2':\n",
        "        SEM_Adjustments[i] = SEM_Adjustments['SUM'] + SEM_Adjustments['SEM']\n",
        "    else:\n",
        "        SEM_Adjustments[i] = df1['F_FQ'] / df1['P_SEM_600_Clicks']\n"
      ]
    }
  ]
}