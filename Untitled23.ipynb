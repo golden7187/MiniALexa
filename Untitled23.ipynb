{
  "nbformat": 4,
  "nbformat_minor": 0,
  "metadata": {
    "colab": {
      "provenance": [],
      "authorship_tag": "ABX9TyOCPaPLGeIDKIZlT9CcJ7Nr",
      "include_colab_link": true
    },
    "kernelspec": {
      "name": "python3",
      "display_name": "Python 3"
    },
    "language_info": {
      "name": "python"
    }
  },
  "cells": [
    {
      "cell_type": "markdown",
      "metadata": {
        "id": "view-in-github",
        "colab_type": "text"
      },
      "source": [
        "<a href=\"https://colab.research.google.com/github/golden7187/MiniALexa/blob/main/Untitled23.ipynb\" target=\"_parent\"><img src=\"https://colab.research.google.com/assets/colab-badge.svg\" alt=\"Open In Colab\"/></a>"
      ]
    },
    {
      "cell_type": "code",
      "execution_count": null,
      "metadata": {
        "id": "R71jqpkosDQI"
      },
      "outputs": [],
      "source": [
        "import pandas as pd\n",
        "\n",
        "# Assuming you have your dataframes named Re_adjusted_contribution_new_yearlyI, Re_adjusted_contribution_new_yearlyT, and aggregated_df_yearly3\n",
        "\n",
        "# Create a Pandas Excel writer using XlsxWriter as the engine\n",
        "writer = pd.ExcelWriter('output.xlsx', engine='xlsxwriter')\n",
        "\n",
        "# Write each dataframe to a different worksheet in the Excel file\n",
        "Re_adjusted_contribution_new_yearlyI.to_excel(writer, sheet_name='Sheet1', startrow=0, startcol=0)\n",
        "Re_adjusted_contribution_new_yearlyT.to_excel(writer, sheet_name='Sheet1', startrow=0, startcol=Re_adjusted_contribution_new_yearlyI.shape[1] + 2)\n",
        "aggregated_df_yearly3.to_excel(writer, sheet_name='Sheet1', startrow=0, startcol=Re_adjusted_contribution_new_yearlyI.shape[1] + Re_adjusted_contribution_new_yearlyT.shape[1] + 4)\n",
        "\n",
        "# Close the Pandas Excel writer and output the Excel file\n",
        "writer.save()\n"
      ]
    },
    {
      "cell_type": "code",
      "source": [
        "with pd.ExcelWriter('output.xlsx', engine='xlsxwriter') as writer:\n",
        "    # Write Re_adjusted_contribution_new_yearlyI with heading\n",
        "    Re_adjusted_contribution_new_yearlyI.to_excel(writer, sheet_name='Sheet1', startrow=1, startcol=0, index=False)\n",
        "    worksheet = writer.sheets['Sheet1']\n",
        "    worksheet.write(0, 0, 'Re_adjusted_contribution_new_yearlyI')\n",
        "\n",
        "    # Write Re_adjusted_contribution_new_yearlyT with heading\n",
        "    Re_adjusted_contribution_new_yearlyT.to_excel(writer, sheet_name='Sheet1', startrow=1, startcol=len(Re_adjusted_contribution_new_yearlyI.columns) + 2, index=False)\n",
        "    worksheet.write(0, len(Re_adjusted_contribution_new_yearlyI.columns) + 2, 'Re_adjusted_contribution_new_yearlyT')\n",
        "\n",
        "    # Write aggregated_df_yearly3 with heading\n",
        "    aggregated_df_yearly3.to_excel(writer, sheet_name='Sheet1', startrow=1, startcol=len(Re_adjusted_contribution_new_yearlyI.columns) + len(Re_adjusted_contribution_new_yearlyT.columns) + 4, index=False)\n",
        "    worksheet.write(0, len(Re_adjusted_contribution_new_yearlyI.columns) + len(Re_adjusted_contribution_new_yearlyT.columns) + 4, 'aggregated_df_yearly3')"
      ],
      "metadata": {
        "id": "OWev5QyLwl8-"
      },
      "execution_count": null,
      "outputs": []
    },
    {
      "cell_type": "code",
      "source": [
        "with pd.ExcelWriter('output.xlsx', engine='xlsxwriter') as writer:\n",
        "    # Write Re_adjusted_contribution_new_yearlyI with heading and blue color\n",
        "    Re_adjusted_contribution_new_yearlyI.to_excel(writer, sheet_name='Sheet1', startrow=1, startcol=0, index=False)\n",
        "    worksheet = writer.sheets['Sheet1']\n",
        "    worksheet.write(0, 0, 'Re_adjusted_contribution_new_yearlyI', writer.book.add_format({'bold': True, 'bg_color': 'blue'}))\n",
        "\n",
        "    # Write Re_adjusted_contribution_new_yearlyT with heading and blue color\n",
        "    Re_adjusted_contribution_new_yearlyT.to_excel(writer, sheet_name='Sheet1', startrow=1, startcol=len(Re_adjusted_contribution_new_yearlyI.columns) + 2, index=False)\n",
        "    worksheet.write(0, len(Re_adjusted_contribution_new_yearlyI.columns) + 2, 'Re_adjusted_contribution_new_yearlyT', writer.book.add_format({'bold': True, 'bg_color': 'blue'}))\n",
        "\n",
        "    # Write aggregated_df_yearly3 with heading and blue color\n",
        "    aggregated_df_yearly3.to_excel(writer, sheet_name='Sheet1', startrow=1, startcol=len(Re_adjusted_contribution_new_yearlyI.columns) + len(Re_adjusted_contribution_new_yearlyT.columns) + 4, index=False)\n",
        "    worksheet.write(0, len(Re_adjusted_contribution_new_yearlyI.columns) + len(Re_adjusted_contribution_new_yearlyT.columns) + 4, 'aggregated_df_yearly3', writer.book.add_format({'bold': True, 'bg_color': 'blue'}))"
      ],
      "metadata": {
        "id": "Sha9ED8GzD2M"
      },
      "execution_count": null,
      "outputs": []
    }
  ]
}