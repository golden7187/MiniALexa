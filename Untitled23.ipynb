{
  "nbformat": 4,
  "nbformat_minor": 0,
  "metadata": {
    "colab": {
      "provenance": [],
      "authorship_tag": "ABX9TyPcWD+QL8gPdkdn1cyLUuJf",
      "include_colab_link": true
    },
    "kernelspec": {
      "name": "python3",
      "display_name": "Python 3"
    },
    "language_info": {
      "name": "python"
    }
  },
  "cells": [
    {
      "cell_type": "markdown",
      "metadata": {
        "id": "view-in-github",
        "colab_type": "text"
      },
      "source": [
        "<a href=\"https://colab.research.google.com/github/golden7187/MiniALexa/blob/main/Untitled23.ipynb\" target=\"_parent\"><img src=\"https://colab.research.google.com/assets/colab-badge.svg\" alt=\"Open In Colab\"/></a>"
      ]
    },
    {
      "cell_type": "code",
      "execution_count": null,
      "metadata": {
        "id": "R71jqpkosDQI"
      },
      "outputs": [],
      "source": [
        "import pandas as pd\n",
        "\n",
        "# Assuming you have your dataframes named Re_adjusted_contribution_new_yearlyI, Re_adjusted_contribution_new_yearlyT, and aggregated_df_yearly3\n",
        "\n",
        "# Create a Pandas Excel writer using XlsxWriter as the engine\n",
        "writer = pd.ExcelWriter('output.xlsx', engine='xlsxwriter')\n",
        "\n",
        "# Write each dataframe to a different worksheet in the Excel file\n",
        "Re_adjusted_contribution_new_yearlyI.to_excel(writer, sheet_name='Sheet1', startrow=0, startcol=0)\n",
        "Re_adjusted_contribution_new_yearlyT.to_excel(writer, sheet_name='Sheet1', startrow=0, startcol=Re_adjusted_contribution_new_yearlyI.shape[1] + 2)\n",
        "aggregated_df_yearly3.to_excel(writer, sheet_name='Sheet1', startrow=0, startcol=Re_adjusted_contribution_new_yearlyI.shape[1] + Re_adjusted_contribution_new_yearlyT.shape[1] + 4)\n",
        "\n",
        "# Close the Pandas Excel writer and output the Excel file\n",
        "writer.save()\n"
      ]
    }
  ]
}