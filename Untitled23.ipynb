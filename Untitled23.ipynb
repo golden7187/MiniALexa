{
  "nbformat": 4,
  "nbformat_minor": 0,
  "metadata": {
    "colab": {
      "provenance": [],
      "authorship_tag": "ABX9TyOGg6tuADK7I34x7NXsd0UX",
      "include_colab_link": true
    },
    "kernelspec": {
      "name": "python3",
      "display_name": "Python 3"
    },
    "language_info": {
      "name": "python"
    }
  },
  "cells": [
    {
      "cell_type": "markdown",
      "metadata": {
        "id": "view-in-github",
        "colab_type": "text"
      },
      "source": [
        "<a href=\"https://colab.research.google.com/github/golden7187/MiniALexa/blob/main/Untitled23.ipynb\" target=\"_parent\"><img src=\"https://colab.research.google.com/assets/colab-badge.svg\" alt=\"Open In Colab\"/></a>"
      ]
    },
    {
      "cell_type": "code",
      "execution_count": null,
      "metadata": {
        "id": "R71jqpkosDQI"
      },
      "outputs": [],
      "source": [
        "import pandas as pd\n",
        "\n",
        "# Assuming you have your dataframes named Re_adjusted_contribution_new_yearlyI, Re_adjusted_contribution_new_yearlyT, and aggregated_df_yearly3\n",
        "\n",
        "# Create a Pandas Excel writer using XlsxWriter as the engine\n",
        "writer = pd.ExcelWriter('output.xlsx', engine='xlsxwriter')\n",
        "\n",
        "# Write each dataframe to a different worksheet in the Excel file\n",
        "Re_adjusted_contribution_new_yearlyI.to_excel(writer, sheet_name='Sheet1', startrow=0, startcol=0)\n",
        "Re_adjusted_contribution_new_yearlyT.to_excel(writer, sheet_name='Sheet1', startrow=0, startcol=Re_adjusted_contribution_new_yearlyI.shape[1] + 2)\n",
        "aggregated_df_yearly3.to_excel(writer, sheet_name='Sheet1', startrow=0, startcol=Re_adjusted_contribution_new_yearlyI.shape[1] + Re_adjusted_contribution_new_yearlyT.shape[1] + 4)\n",
        "\n",
        "# Close the Pandas Excel writer and output the Excel file\n",
        "writer.save()\n"
      ]
    },
    {
      "cell_type": "code",
      "source": [
        "with pd.ExcelWriter('output.xlsx', engine='xlsxwriter') as writer:\n",
        "    # Write Re_adjusted_contribution_new_yearlyI with heading\n",
        "    Re_adjusted_contribution_new_yearlyI.to_excel(writer, sheet_name='Sheet1', startrow=1, startcol=0, index=False)\n",
        "    worksheet = writer.sheets['Sheet1']\n",
        "    worksheet.write(0, 0, 'Re_adjusted_contribution_new_yearlyI')\n",
        "\n",
        "    # Write Re_adjusted_contribution_new_yearlyT with heading\n",
        "    Re_adjusted_contribution_new_yearlyT.to_excel(writer, sheet_name='Sheet1', startrow=1, startcol=len(Re_adjusted_contribution_new_yearlyI.columns) + 2, index=False)\n",
        "    worksheet.write(0, len(Re_adjusted_contribution_new_yearlyI.columns) + 2, 'Re_adjusted_contribution_new_yearlyT')\n",
        "\n",
        "    # Write aggregated_df_yearly3 with heading\n",
        "    aggregated_df_yearly3.to_excel(writer, sheet_name='Sheet1', startrow=1, startcol=len(Re_adjusted_contribution_new_yearlyI.columns) + len(Re_adjusted_contribution_new_yearlyT.columns) + 4, index=False)\n",
        "    worksheet.write(0, len(Re_adjusted_contribution_new_yearlyI.columns) + len(Re_adjusted_contribution_new_yearlyT.columns) + 4, 'aggregated_df_yearly3')"
      ],
      "metadata": {
        "id": "OWev5QyLwl8-"
      },
      "execution_count": null,
      "outputs": []
    },
    {
      "cell_type": "code",
      "source": [
        "with pd.ExcelWriter('output.xlsx', engine='xlsxwriter') as writer:\n",
        "    # Write Re_adjusted_contribution_new_yearlyI with heading and blue color\n",
        "    Re_adjusted_contribution_new_yearlyI.to_excel(writer, sheet_name='Sheet1', startrow=1, startcol=0, index=False)\n",
        "    worksheet = writer.sheets['Sheet1']\n",
        "    worksheet.write(0, 0, 'Re_adjusted_contribution_new_yearlyI', writer.book.add_format({'bold': True, 'bg_color': 'blue'}))\n",
        "\n",
        "    # Write Re_adjusted_contribution_new_yearlyT with heading and blue color\n",
        "    Re_adjusted_contribution_new_yearlyT.to_excel(writer, sheet_name='Sheet1', startrow=1, startcol=len(Re_adjusted_contribution_new_yearlyI.columns) + 2, index=False)\n",
        "    worksheet.write(0, len(Re_adjusted_contribution_new_yearlyI.columns) + 2, 'Re_adjusted_contribution_new_yearlyT', writer.book.add_format({'bold': True, 'bg_color': 'blue'}))\n",
        "\n",
        "    # Write aggregated_df_yearly3 with heading and blue color\n",
        "    aggregated_df_yearly3.to_excel(writer, sheet_name='Sheet1', startrow=1, startcol=len(Re_adjusted_contribution_new_yearlyI.columns) + len(Re_adjusted_contribution_new_yearlyT.columns) + 4, index=False)\n",
        "    worksheet.write(0, len(Re_adjusted_contribution_new_yearlyI.columns) + len(Re_adjusted_contribution_new_yearlyT.columns) + 4, 'aggregated_df_yearly3', writer.book.add_format({'bold': True, 'bg_color': 'blue'}))"
      ],
      "metadata": {
        "id": "Sha9ED8GzD2M"
      },
      "execution_count": null,
      "outputs": []
    },
    {
      "cell_type": "code",
      "source": [
        "import pandas as pd\n",
        "\n",
        "# Create your dataframes\n",
        "Re_adjusted_contribution_new_yearlyI = pd.DataFrame({'A': [1, 2, 3], 'B': [4, 5, 6]})\n",
        "Re_adjusted_contribution_new_yearlyT = pd.DataFrame({'X': ['a', 'b', 'c'], 'Y': ['d', 'e', 'f']})\n",
        "aggregated_df_yearly3 = pd.DataFrame({'Alpha': ['apple', 'banana', 'cherry'], 'Beta': ['dog', 'elephant', 'fox']})\n",
        "\n",
        "# Write to Excel\n",
        "with pd.ExcelWriter('output.xlsx', engine='xlsxwriter') as writer:\n",
        "    # Write Re_adjusted_contribution_new_yearlyI with heading and blue color\n",
        "    Re_adjusted_contribution_new_yearlyI.to_excel(writer, sheet_name='Sheet1', startrow=1, startcol=0, index=False)\n",
        "    worksheet = writer.sheets['Sheet1']\n",
        "    worksheet.write('A1', 'Re_adjusted_contribution_new_yearlyI', writer.book.add_format({'bold': True}))\n",
        "    worksheet.set_row(0, None, writer.book.add_format({'bg_color': 'blue'}))\n",
        "\n",
        "    # Write Re_adjusted_contribution_new_yearlyT with heading and blue color\n",
        "    Re_adjusted_contribution_new_yearlyT.to_excel(writer, sheet_name='Sheet1', startrow=1, startcol=len(Re_adjusted_contribution_new_yearlyI.columns) + 2, index=False)\n",
        "    worksheet.write(0, len(Re_adjusted_contribution_new_yearlyI.columns) + 2, 'Re_adjusted_contribution_new_yearlyT', writer.book.add_format({'bold': True}))\n",
        "    worksheet.set_row(0, None, writer.book.add_format({'bg_color': 'blue'}))\n",
        "\n",
        "    # Write aggregated_df_yearly3 with heading and blue color\n",
        "    aggregated_df_yearly3.to_excel(writer, sheet_name='Sheet1', startrow=1, startcol=len(Re_adjusted_contribution_new_yearlyI.columns) + len(Re_adjusted_contribution_new_yearlyT.columns) + 4, index=False)\n",
        "    worksheet.write(0, len(Re_adjusted_contribution_new_yearlyI.columns) + len(Re_adjusted_contribution_new_yearlyT.columns) + 4, 'aggregated_df_yearly3', writer.book.add_format({'bold': True}))\n",
        "    worksheet.set_row(0, None, writer.book.add_format({'bg_color': 'blue'}))\n"
      ],
      "metadata": {
        "id": "mKmaOpr30HvZ"
      },
      "execution_count": null,
      "outputs": []
    },
    {
      "cell_type": "code",
      "source": [
        "import pandas as pd\n",
        "\n",
        "# Create your dataframes\n",
        "Re_adjusted_contribution_new_yearlyI = pd.DataFrame({'A': [1, 2, 3], 'B': [4, 5, 6]})\n",
        "Re_adjusted_contribution_new_yearlyT = pd.DataFrame({'X': ['a', 'b', 'c'], 'Y': ['d', 'e', 'f']})\n",
        "aggregated_df_yearly3 = pd.DataFrame({'Alpha': ['apple', 'banana', 'cherry'], 'Beta': ['dog', 'elephant', 'fox']})\n",
        "\n",
        "# Define Excel writer with xlsxwriter engine\n",
        "with pd.ExcelWriter('output.xlsx', engine='xlsxwriter') as writer:\n",
        "\n",
        "    # Get the worksheet\n",
        "    worksheet = writer.sheets['Sheet1']\n",
        "\n",
        "    # Write Re_adjusted_contribution_new_yearlyI with heading and blue color\n",
        "    Re_adjusted_contribution_new_yearlyI.to_excel(writer, sheet_name='Sheet1', startrow=1, startcol=0, index=False)\n",
        "    worksheet.write('A1', 'Re_adjusted_contribution_new_yearlyI', writer.book.add_format({'bold': True}))\n",
        "    worksheet.set_row(0, None, writer.book.add_format({'bg_color': 'blue'}))\n",
        "\n",
        "    # Write Re_adjusted_contribution_new_yearlyT with heading and blue color\n",
        "    Re_adjusted_contribution_new_yearlyT.to_excel(writer, sheet_name='Sheet1', startrow=1, startcol=len(Re_adjusted_contribution_new_yearlyI.columns) + 2, index=False)\n",
        "    worksheet.write(0, len(Re_adjusted_contribution_new_yearlyI.columns) + 2, 'Re_adjusted_contribution_new_yearlyT', writer.book.add_format({'bold': True}))\n",
        "    worksheet.set_row(0, None, writer.book.add_format({'bg_color': 'blue'}))\n",
        "\n",
        "    # Write aggregated_df_yearly3 with heading and blue color\n",
        "    aggregated_df_yearly3.to_excel(writer, sheet_name='Sheet1', startrow=1, startcol=len(Re_adjusted_contribution_new_yearlyI.columns) + len(Re_adjusted_contribution_new_yearlyT.columns) + 4, index=False)\n",
        "    worksheet.write(0, len(Re_adjusted_contribution_new_yearlyI.columns) + len(Re_adjusted_contribution_new_yearlyT.columns) + 4, 'aggregated_df_yearly3', writer.book.add_format({'bold': True}))\n",
        "    worksheet.set_row(0, None, writer.book.add_format({'bg_color': 'blue'}))\n"
      ],
      "metadata": {
        "id": "9hsJH0C00Uoe"
      },
      "execution_count": null,
      "outputs": []
    },
    {
      "cell_type": "code",
      "source": [
        "size = len(aggregated_df_yearly3.columns)\n",
        "\n",
        "with pd.ExcelWriter('Split_Yearly_Summary.xlsx', engine='xlsxwriter') as writer:\n",
        "    # Write Re_adjusted_contribution_new_yearlyI with heading and blue color\n",
        "    k = 0\n",
        "    for j in model_list:\n",
        "        globals()[f'Re_adjusted_contribution_new_yearly{j}'].to_excel(writer, sheet_name='yearly summary', startrow=1, startcol=k*(size+2), index=True)\n",
        "        worksheet = writer.sheets['yearly summary']\n",
        "        worksheet.write(1, k*(size+2), f'Yearly Aggregation of Model {j}', writer.book.add_format({'bold': True, 'font_color': 'black', 'bg_color': 'yellow', 'align': 'center', 'valign': 'vcenter', 'border': 1}))\n",
        "        k += 1\n",
        "\n",
        "    # Write aggregated_df_yearly3 with heading and blue color\n",
        "    aggregated_df_yearly3.to_excel(writer, sheet_name='yearly summary', startrow=1, startcol=k*(size+2), index=True)\n",
        "    worksheet = writer.sheets['yearly summary']\n",
        "    worksheet.write(1, k*(size+2), 'Yearly Agg of All Models', writer.book.add_format({'bold': True, 'font_color': 'black', 'bg_color': 'yellow', 'align': 'center', 'valign': 'vcenter', 'border': 1}))\n",
        "\n",
        "    # Apply border to each cell in each table\n",
        "    for table_col in range(len(model_list) + 1):\n",
        "        for col in range(size + 1):  # Including index column\n",
        "            for row in range(1, len(aggregated_df_yearly3) + 2):  # Including header\n",
        "                worksheet.write(row, k*(size+2) + table_col * (size + 2) + col, aggregated_df_yearly3.iloc[row - 1, col], writer.book.add_format({'border': 1}))\n",
        "\n",
        "    for col in range(size + 1):  # Including index column\n",
        "        for row in range(1, len(aggregated_df_yearly3) + 2):  # Including header\n",
        "            worksheet.write(row, k*(size+2) + col, aggregated_df_yearly3.iloc[row - 1, col], writer.book.add_format({'border': 1}))\n"
      ],
      "metadata": {
        "id": "kovheC_cpTvE"
      },
      "execution_count": null,
      "outputs": []
    }
  ]
}