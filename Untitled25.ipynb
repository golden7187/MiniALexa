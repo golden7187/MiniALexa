{
  "nbformat": 4,
  "nbformat_minor": 0,
  "metadata": {
    "colab": {
      "provenance": [],
      "authorship_tag": "ABX9TyP4oa0J56h90WJjoYqjpVtk",
      "include_colab_link": true
    },
    "kernelspec": {
      "name": "python3",
      "display_name": "Python 3"
    },
    "language_info": {
      "name": "python"
    }
  },
  "cells": [
    {
      "cell_type": "markdown",
      "metadata": {
        "id": "view-in-github",
        "colab_type": "text"
      },
      "source": [
        "<a href=\"https://colab.research.google.com/github/golden7187/MiniALexa/blob/main/Untitled25.ipynb\" target=\"_parent\"><img src=\"https://colab.research.google.com/assets/colab-badge.svg\" alt=\"Open In Colab\"/></a>"
      ]
    },
    {
      "cell_type": "code",
      "execution_count": null,
      "metadata": {
        "id": "vY353MzvNVv9"
      },
      "outputs": [],
      "source": [
        "counts = df.groupby(['jid'])['uid'].count().reset_index(name=\"count\").groupby(['count']).count().reset_index()\n",
        "\n",
        "# Extracting count values and corresponding 'jid' values\n",
        "hist_x = counts['count']  # Using the 'count' column as x-axis values\n",
        "hist_y = counts['jid']\n",
        "\n",
        "plt.plot(hist_x, hist_y, label='all journeys')\n",
        "plt.yscale('log')\n",
        "plt.xlabel('Number of touchpoints')\n",
        "plt.ylabel('Number of journeys')\n",
        "plt.show()\n"
      ]
    },
    {
      "cell_type": "code",
      "source": [
        "import matplotlib.pyplot as plt\n",
        "\n",
        "# Convert 'day' column to datetime format if needed\n",
        "df_Criteo_Attribution['day'] = pd.to_datetime(df_Criteo_Attribution['day'], unit='s')\n",
        "\n",
        "# Plot time series of 'day' values\n",
        "plt.figure(figsize=(10, 6))\n",
        "plt.plot(df_Criteo_Attribution['day'], marker='o', linestyle='-')\n",
        "plt.xlabel('Date')\n",
        "plt.ylabel('Frequency')\n",
        "plt.title('Distribution of \"day\" values over time')\n",
        "plt.grid(True)\n",
        "plt.show()\n"
      ],
      "metadata": {
        "id": "0moWomxJVJEi"
      },
      "execution_count": null,
      "outputs": []
    },
    {
      "cell_type": "code",
      "source": [
        "# Group by uid and conversion_id to count touchpoints per user-conversion pair\n",
        "grouped_touchpoints = df_Criteo_Attribution.groupby(['uid', 'conversion_id']).size().reset_index(name='touchpoint_count')\n",
        "\n",
        "# Filter rows based on the count of touchpoints per user-conversion pair\n",
        "filtered_df = df_Criteo_Attribution[df_Criteo_Attribution['uid'].isin(grouped_touchpoints[grouped_touchpoints['touchpoint_count'] >= 2]['uid'].values) &\n",
        "                                    df_Criteo_Attribution['conversion_id'].isin(grouped_touchpoints[grouped_touchpoints['touchpoint_count'] >= 2]['conversion_id'].values)]\n"
      ],
      "metadata": {
        "id": "IXdFd8_XBhld"
      },
      "execution_count": null,
      "outputs": []
    },
    {
      "cell_type": "code",
      "source": [
        "import matplotlib.pyplot as plt\n",
        "\n",
        "# Assuming `conversion_per_campaign` DataFrame is already defined\n",
        "plt.figure(figsize=(10, 6))\n",
        "plt.bar(conversion_per_campaign['campaign'], conversion_per_campaign['count'], color='skyblue')\n",
        "plt.xlabel('Campaign')\n",
        "plt.ylabel('Number of Conversions')\n",
        "plt.title('Number of Conversions per Campaign')\n",
        "plt.xticks(rotation=45, ha='right')\n",
        "plt.tight_layout()\n",
        "plt.show()\n"
      ],
      "metadata": {
        "id": "H6HtIi0RZiFL"
      },
      "execution_count": null,
      "outputs": []
    },
    {
      "cell_type": "code",
      "source": [],
      "metadata": {
        "id": "5zNP2Wbya5PC"
      },
      "execution_count": null,
      "outputs": []
    },
    {
      "cell_type": "code",
      "source": [
        "import matplotlib.pyplot as plt\n",
        "\n",
        "# Assuming `conversion_per_campaign` DataFrame is already defined\n",
        "total_conversions = conversion_per_campaign['count'].sum()\n",
        "conversion_per_campaign['normalized_count'] = conversion_per_campaign['count'] / total_conversions\n",
        "\n",
        "plt.figure(figsize=(10, 6))\n",
        "plt.plot(conversion_per_campaign['campaign'], conversion_per_campaign['normalized_count'], marker='o', color='skyblue', linestyle='-')\n",
        "plt.xlabel('Campaign ID')\n",
        "plt.ylabel('Normalized Number of Conversions')\n",
        "plt.title('Normalized Number of Conversions per Campaign')\n",
        "plt.xticks(rotation=45, ha='right')\n",
        "plt.tight_layout()\n",
        "plt.show()\n"
      ],
      "metadata": {
        "id": "_1X-n1vea48v"
      },
      "execution_count": null,
      "outputs": []
    },
    {
      "cell_type": "code",
      "source": [
        "import matplotlib.pyplot as plt\n",
        "\n",
        "# Assuming `conversion_per_campaign` DataFrame is already defined\n",
        "campaign_ids = conversion_per_campaign['campaign']\n",
        "min_campaign_id = min(campaign_ids)\n",
        "max_campaign_id = max(campaign_ids)\n",
        "normalized_campaign_ids = (campaign_ids - min_campaign_id) / (max_campaign_id - min_campaign_id)\n",
        "\n",
        "total_conversions = conversion_per_campaign['count'].sum()\n",
        "conversion_per_campaign['normalized_count'] = conversion_per_campaign['count'] / total_conversions\n",
        "\n",
        "plt.figure(figsize=(10, 6))\n",
        "plt.plot(normalized_campaign_ids, conversion_per_campaign['normalized_count'], marker='o', color='skyblue', linestyle='-')\n",
        "plt.xlabel('Normalized Campaign ID')\n",
        "plt.ylabel('Normalized Number of Conversions')\n",
        "plt.title('Normalized Number of Conversions per Campaign')\n",
        "plt.tight_layout()\n",
        "plt.show()\n"
      ],
      "metadata": {
        "id": "5R47HNcbcVRP"
      },
      "execution_count": null,
      "outputs": []
    }
  ]
}