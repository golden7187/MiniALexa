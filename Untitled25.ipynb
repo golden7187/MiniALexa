{
  "nbformat": 4,
  "nbformat_minor": 0,
  "metadata": {
    "colab": {
      "provenance": [],
      "authorship_tag": "ABX9TyOl7dkNMGzrY7mf6d00QMhy",
      "include_colab_link": true
    },
    "kernelspec": {
      "name": "python3",
      "display_name": "Python 3"
    },
    "language_info": {
      "name": "python"
    }
  },
  "cells": [
    {
      "cell_type": "markdown",
      "metadata": {
        "id": "view-in-github",
        "colab_type": "text"
      },
      "source": [
        "<a href=\"https://colab.research.google.com/github/golden7187/MiniALexa/blob/main/Untitled25.ipynb\" target=\"_parent\"><img src=\"https://colab.research.google.com/assets/colab-badge.svg\" alt=\"Open In Colab\"/></a>"
      ]
    },
    {
      "cell_type": "code",
      "execution_count": null,
      "metadata": {
        "id": "vY353MzvNVv9"
      },
      "outputs": [],
      "source": [
        "counts = df.groupby(['jid'])['uid'].count().reset_index(name=\"count\").groupby(['count']).count().reset_index()\n",
        "\n",
        "# Extracting count values and corresponding 'jid' values\n",
        "hist_x = counts['count']  # Using the 'count' column as x-axis values\n",
        "hist_y = counts['jid']\n",
        "\n",
        "plt.plot(hist_x, hist_y, label='all journeys')\n",
        "plt.yscale('log')\n",
        "plt.xlabel('Number of touchpoints')\n",
        "plt.ylabel('Number of journeys')\n",
        "plt.show()\n"
      ]
    },
    {
      "cell_type": "code",
      "source": [
        "import matplotlib.pyplot as plt\n",
        "\n",
        "# Convert 'day' column to datetime format if needed\n",
        "df_Criteo_Attribution['day'] = pd.to_datetime(df_Criteo_Attribution['day'], unit='s')\n",
        "\n",
        "# Plot time series of 'day' values\n",
        "plt.figure(figsize=(10, 6))\n",
        "plt.plot(df_Criteo_Attribution['day'], marker='o', linestyle='-')\n",
        "plt.xlabel('Date')\n",
        "plt.ylabel('Frequency')\n",
        "plt.title('Distribution of \"day\" values over time')\n",
        "plt.grid(True)\n",
        "plt.show()\n"
      ],
      "metadata": {
        "id": "0moWomxJVJEi"
      },
      "execution_count": null,
      "outputs": []
    }
  ]
}