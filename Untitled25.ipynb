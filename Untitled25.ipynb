{
  "nbformat": 4,
  "nbformat_minor": 0,
  "metadata": {
    "colab": {
      "provenance": [],
      "authorship_tag": "ABX9TyN8L0ke7tCQAUWHPQkrOTDy",
      "include_colab_link": true
    },
    "kernelspec": {
      "name": "python3",
      "display_name": "Python 3"
    },
    "language_info": {
      "name": "python"
    }
  },
  "cells": [
    {
      "cell_type": "markdown",
      "metadata": {
        "id": "view-in-github",
        "colab_type": "text"
      },
      "source": [
        "<a href=\"https://colab.research.google.com/github/golden7187/MiniALexa/blob/main/Untitled25.ipynb\" target=\"_parent\"><img src=\"https://colab.research.google.com/assets/colab-badge.svg\" alt=\"Open In Colab\"/></a>"
      ]
    },
    {
      "cell_type": "code",
      "execution_count": null,
      "metadata": {
        "id": "vY353MzvNVv9"
      },
      "outputs": [],
      "source": [
        "counts = df.groupby(['jid'])['uid'].count().reset_index(name=\"count\").groupby(['count']).count().reset_index()\n",
        "\n",
        "# Extracting count values and corresponding 'jid' values\n",
        "hist_x = counts['count']  # Using the 'count' column as x-axis values\n",
        "hist_y = counts['jid']\n",
        "\n",
        "plt.plot(hist_x, hist_y, label='all journeys')\n",
        "plt.yscale('log')\n",
        "plt.xlabel('Number of touchpoints')\n",
        "plt.ylabel('Number of journeys')\n",
        "plt.show()\n"
      ]
    },
    {
      "cell_type": "code",
      "source": [
        "import matplotlib.pyplot as plt\n",
        "\n",
        "# Convert 'day' column to datetime format if needed\n",
        "df_Criteo_Attribution['day'] = pd.to_datetime(df_Criteo_Attribution['day'], unit='s')\n",
        "\n",
        "# Plot time series of 'day' values\n",
        "plt.figure(figsize=(10, 6))\n",
        "plt.plot(df_Criteo_Attribution['day'], marker='o', linestyle='-')\n",
        "plt.xlabel('Date')\n",
        "plt.ylabel('Frequency')\n",
        "plt.title('Distribution of \"day\" values over time')\n",
        "plt.grid(True)\n",
        "plt.show()\n"
      ],
      "metadata": {
        "id": "0moWomxJVJEi"
      },
      "execution_count": null,
      "outputs": []
    },
    {
      "cell_type": "code",
      "source": [
        "# Group by uid and conversion_id to count touchpoints per user-conversion pair\n",
        "grouped_touchpoints = df_Criteo_Attribution.groupby(['uid', 'conversion_id']).size().reset_index(name='touchpoint_count')\n",
        "\n",
        "# Filter rows based on the count of touchpoints per user-conversion pair\n",
        "filtered_df = df_Criteo_Attribution[df_Criteo_Attribution['uid'].isin(grouped_touchpoints[grouped_touchpoints['touchpoint_count'] >= 2]['uid'].values) &\n",
        "                                    df_Criteo_Attribution['conversion_id'].isin(grouped_touchpoints[grouped_touchpoints['touchpoint_count'] >= 2]['conversion_id'].values)]\n"
      ],
      "metadata": {
        "id": "IXdFd8_XBhld"
      },
      "execution_count": null,
      "outputs": []
    },
    {
      "cell_type": "code",
      "source": [
        "import matplotlib.pyplot as plt\n",
        "\n",
        "# Assuming `conversion_per_campaign` DataFrame is already defined\n",
        "plt.figure(figsize=(10, 6))\n",
        "plt.bar(conversion_per_campaign['campaign'], conversion_per_campaign['count'], color='skyblue')\n",
        "plt.xlabel('Campaign')\n",
        "plt.ylabel('Number of Conversions')\n",
        "plt.title('Number of Conversions per Campaign')\n",
        "plt.xticks(rotation=45, ha='right')\n",
        "plt.tight_layout()\n",
        "plt.show()\n"
      ],
      "metadata": {
        "id": "H6HtIi0RZiFL"
      },
      "execution_count": null,
      "outputs": []
    }
  ]
}